{
 "cells": [
  {
   "attachments": {},
   "cell_type": "markdown",
   "metadata": {},
   "source": [
    "# Question 1\n",
    "\n",
    "Based on the following table, design the three stages of reproducible workflow, includes the work you\n",
    "can do and the folder structure in each stage (reference study case in chapter 3). (5 points)"
   ]
  },
  {
   "attachments": {},
   "cell_type": "markdown",
   "metadata": {},
   "source": [
    "**The Three Stages of Reproducible Workflow**\n",
    "\n",
    "Referencing the Lecture 3 slides, the three stages of reproducible workflow are:\n",
    "\n",
    "1. Data Input\n",
    "2. Data Processing\n",
    "3. Data Analysis"
   ]
  },
  {
   "cell_type": "code",
   "execution_count": 30,
   "metadata": {},
   "outputs": [],
   "source": [
    "import pandas as pd\n",
    "from matplotlib import pyplot as plt"
   ]
  },
  {
   "attachments": {},
   "cell_type": "markdown",
   "metadata": {},
   "source": [
    "## Stage 1: Data Input\n",
    "\n",
    "Stage 1 is to acquire the data. This is the stage where the data is collected and stored.\n",
    "\n",
    "In this case, the data was provided as part of the assignment document. I used Microsoft Excel to create a CSV file from the table provided in the assignment document, and then I copied the CSV file to my repository."
   ]
  },
  {
   "cell_type": "code",
   "execution_count": 31,
   "metadata": {},
   "outputs": [
    {
     "data": {
      "text/html": [
       "<div>\n",
       "<style scoped>\n",
       "    .dataframe tbody tr th:only-of-type {\n",
       "        vertical-align: middle;\n",
       "    }\n",
       "\n",
       "    .dataframe tbody tr th {\n",
       "        vertical-align: top;\n",
       "    }\n",
       "\n",
       "    .dataframe thead th {\n",
       "        text-align: right;\n",
       "    }\n",
       "</style>\n",
       "<table border=\"1\" class=\"dataframe\">\n",
       "  <thead>\n",
       "    <tr style=\"text-align: right;\">\n",
       "      <th></th>\n",
       "      <th>Height (Inches)</th>\n",
       "      <th>Weight (Pounds)</th>\n",
       "      <th>Age</th>\n",
       "      <th>Grip strength</th>\n",
       "      <th>Frailty</th>\n",
       "    </tr>\n",
       "  </thead>\n",
       "  <tbody>\n",
       "    <tr>\n",
       "      <th>0</th>\n",
       "      <td>65.8</td>\n",
       "      <td>112</td>\n",
       "      <td>30</td>\n",
       "      <td>30</td>\n",
       "      <td>N</td>\n",
       "    </tr>\n",
       "    <tr>\n",
       "      <th>1</th>\n",
       "      <td>71.5</td>\n",
       "      <td>136</td>\n",
       "      <td>19</td>\n",
       "      <td>31</td>\n",
       "      <td>N</td>\n",
       "    </tr>\n",
       "    <tr>\n",
       "      <th>2</th>\n",
       "      <td>69.4</td>\n",
       "      <td>153</td>\n",
       "      <td>45</td>\n",
       "      <td>29</td>\n",
       "      <td>N</td>\n",
       "    </tr>\n",
       "    <tr>\n",
       "      <th>3</th>\n",
       "      <td>68.2</td>\n",
       "      <td>142</td>\n",
       "      <td>22</td>\n",
       "      <td>28</td>\n",
       "      <td>Y</td>\n",
       "    </tr>\n",
       "    <tr>\n",
       "      <th>4</th>\n",
       "      <td>67.8</td>\n",
       "      <td>144</td>\n",
       "      <td>29</td>\n",
       "      <td>24</td>\n",
       "      <td>Y</td>\n",
       "    </tr>\n",
       "  </tbody>\n",
       "</table>\n",
       "</div>"
      ],
      "text/plain": [
       "  Height (Inches)  Weight (Pounds)  Age  Grip strength  Frailty \n",
       "0            65.8              112   30             30        N \n",
       "1            71.5              136   19             31        N \n",
       "2            69.4              153   45             29        N \n",
       "3            68.2              142   22             28        Y \n",
       "4            67.8              144   29             24        Y "
      ]
     },
     "execution_count": 31,
     "metadata": {},
     "output_type": "execute_result"
    }
   ],
   "source": [
    "df = pd.read_csv('data/question_1.csv')\n",
    "df.head()"
   ]
  },
  {
   "attachments": {},
   "cell_type": "markdown",
   "metadata": {},
   "source": [
    "# Stage 2: Data Processing\n",
    "\n",
    "Per the slides, Stage 2 *\"involves processing or cleaning of the dataproduced in the first stage.\"*\n",
    "\n",
    "The slides suggest the following activities:\n",
    "- manual data entry\n",
    "- visual data review\n",
    "- systematic data manipulation\n",
    "- filtering using scripts or other software"
   ]
  },
  {
   "attachments": {},
   "cell_type": "markdown",
   "metadata": {},
   "source": [
    "**Reviewing the Data**\n",
    "\n",
    "In this case the data was provided as part of the assignment document, so there was no need to perform any manual data entry. However, I did review the data to ensure that it was correct.\n",
    "\n",
    "If this were a real dataset, I would want to know the following:\n",
    "\n",
    "- What is the source of the data?\n",
    "- How was the data collected?\n",
    "- What is the purpose of the data?\n",
    "- What units are we using to measure grip strength?\n",
    "  - An online search suggests that grip strength can be measured in lbs, kg, or Newtons. \n",
    "  - I would want to know which unit was used in this dataset.\n",
    "- How do we define frailty?\n",
    "  - Is it based on age?\n",
    "  - Is it based on grip strength?\n",
    "  - Is it based on both?\n",
    "- Should we convert the imperial units to metric units?\n",
    "  - If so, which units should we convert to?\n",
    "  - If not, why not?"
   ]
  },
  {
   "attachments": {},
   "cell_type": "markdown",
   "metadata": {},
   "source": [
    "## Stage 3: Data Analysis\n",
    "\n",
    "Stage 3 is the stage where the data is analyzed. Per the slides, this may involve the following activities:\n",
    "\n",
    "- formal statistics\n",
    "- data visualization\n",
    "- assessing the performance of particular algorithms\n",
    "- extending the data to address a hypothesis or draw ascientific conclusion\n",
    "\n",
    "The analysis that we can perform is limited, given that we only have 5 rows of data. I perform a single visualization in the next section as a proof-of-concept. I will perform more visualizations in Question 2."
   ]
  },
  {
   "cell_type": "code",
   "execution_count": 32,
   "metadata": {},
   "outputs": [
    {
     "data": {
      "text/plain": [
       "Index(['Height (Inches) ', 'Weight (Pounds) ', 'Age ', 'Grip strength ',\n",
       "       'Frailty '],\n",
       "      dtype='object')"
      ]
     },
     "execution_count": 32,
     "metadata": {},
     "output_type": "execute_result"
    }
   ],
   "source": [
    "# Let's look at the current key names\n",
    "df.keys()"
   ]
  },
  {
   "cell_type": "code",
   "execution_count": 33,
   "metadata": {},
   "outputs": [
    {
     "data": {
      "text/plain": [
       "Index(['height', 'weight', 'age', 'grip_strength', 'frailty'], dtype='object')"
      ]
     },
     "execution_count": 33,
     "metadata": {},
     "output_type": "execute_result"
    }
   ],
   "source": [
    "# Let's rename the keys so they are easier to work with\n",
    "df.columns = ['height', 'weight', 'age', 'grip_strength', 'frailty']\n",
    "df.keys()"
   ]
  },
  {
   "cell_type": "code",
   "execution_count": 34,
   "metadata": {},
   "outputs": [
    {
     "data": {
      "image/png": "[encoded data removed]",
      "text/plain": [
       "<Figure size 640x480 with 1 Axes>"
      ]
     },
     "metadata": {},
     "output_type": "display_data"
    }
   ],
   "source": [
    "df.plot(x='height', y='weight', kind='scatter')\n",
    "plt.show()"
   ]
  }
 ],
 "metadata": {
  "kernelspec": {
   "display_name": "cs5530-assignment1-yUnyBihl-py3.11",
   "language": "python",
   "name": "python3"
  },
  "language_info": {
   "codemirror_mode": {
    "name": "ipython",
    "version": 3
   },
   "file_extension": ".py",
   "mimetype": "text/x-python",
   "name": "python",
   "nbconvert_exporter": "python",
   "pygments_lexer": "ipython3",
   "version": "3.11.1"
  },
  "orig_nbformat": 4,
  "vscode": {
   "interpreter": {
    "hash": "5bfe2c441f3a7e78f440be84eeae9a151254fbf09f38f80bf1aaa66af65305c4"
   }
  }
 },
 "nbformat": 4,
 "nbformat_minor": 2
}
